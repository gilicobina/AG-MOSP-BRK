{
  "nbformat": 4,
  "nbformat_minor": 0,
  "metadata": {
    "colab": {
      "name": "Untitled1.ipynb",
      "version": "0.3.2",
      "provenance": [],
      "include_colab_link": true
    },
    "kernelspec": {
      "name": "python2",
      "display_name": "Python 2"
    }
  },
  "cells": [
    {
      "cell_type": "markdown",
      "metadata": {
        "id": "view-in-github",
        "colab_type": "text"
      },
      "source": [
        "<a href=\"https://colab.research.google.com/github/gilicobina/AG-MOSP-BRK/blob/master/Untitled1.ipynb\" target=\"_parent\"><img src=\"https://colab.research.google.com/assets/colab-badge.svg\" alt=\"Open In Colab\"/></a>"
      ]
    },
    {
      "metadata": {
        "id": "qu5FAeJsv-n6",
        "colab_type": "code",
        "outputId": "4446bec8-c837-4cba-8bd0-87f9651ecf77",
        "colab": {
          "base_uri": "https://localhost:8080/",
          "height": 139
        }
      },
      "cell_type": "code",
      "source": [
        "!git clone https://github.com/gilicobina/BRK-AG\n",
        " "
      ],
      "execution_count": 0,
      "outputs": [
        {
          "output_type": "stream",
          "text": [
            "Cloning into 'BRK-AG'...\n",
            "remote: Enumerating objects: 2229, done.\u001b[K\n",
            "remote: Counting objects: 100% (2229/2229), done.\u001b[K\n",
            "remote: Compressing objects: 100% (126/126), done.\u001b[K\n",
            "remote: Total 2229 (delta 2109), reused 2213 (delta 2093), pack-reused 0\u001b[K\n",
            "Receiving objects: 100% (2229/2229), 674.04 KiB | 19.82 MiB/s, done.\n",
            "Resolving deltas: 100% (2109/2109), done.\n"
          ],
          "name": "stdout"
        }
      ]
    },
    {
      "metadata": {
        "id": "aXAYlKRp7LFz",
        "colab_type": "code",
        "outputId": "297c1671-d37d-4f2f-9e10-7cc7773b2c07",
        "colab": {
          "base_uri": "https://localhost:8080/",
          "height": 243
        }
      },
      "cell_type": "code",
      "source": [
        "%cd /content/BRK-AG\n",
        "!git pull origin master"
      ],
      "execution_count": 0,
      "outputs": [
        {
          "output_type": "stream",
          "text": [
            "/content/BRK-AG\n",
            "remote: Enumerating objects: 5, done.\u001b[K\n",
            "remote: Counting objects: 100% (5/5), done.\u001b[K\n",
            "remote: Compressing objects: 100% (1/1), done.\u001b[K\n",
            "remote: Total 3 (delta 2), reused 3 (delta 2), pack-reused 0\u001b[K\n",
            "Unpacking objects: 100% (3/3), done.\n",
            "From https://github.com/gilicobina/BRK-AG\n",
            " * branch            master     -> FETCH_HEAD\n",
            "   ed42b51..37b72ba  master     -> origin/master\n",
            "Updating ed42b51..37b72ba\n",
            "Fast-forward\n",
            " app.py | 2 \u001b[32m+\u001b[m\u001b[31m-\u001b[m\n",
            " 1 file changed, 1 insertion(+), 1 deletion(-)\n"
          ],
          "name": "stdout"
        }
      ]
    },
    {
      "metadata": {
        "id": "IDryItlL7Xif",
        "colab_type": "code",
        "outputId": "bf3b5018-7e05-4eda-cc32-6cd29418486f",
        "colab": {
          "base_uri": "https://localhost:8080/",
          "height": 1620
        }
      },
      "cell_type": "code",
      "source": [
        "!python app.py"
      ],
      "execution_count": 0,
      "outputs": [
        {
          "output_type": "stream",
          "text": [
            "('Directory ', 'solucao/', ' already exists')\n",
            "trial/Harvey_wbp_15_15_35.txt\n",
            "Executando BRKGA...\n",
            "('0 - melhor:', 15)\n",
            "trial/Harvey_wbp_15_15_35.txt\n",
            "Executando BRKGA...\n",
            "('0 - melhor:', 15)\n",
            "trial/Harvey_wbp_15_15_35.txt\n",
            "Executando BRKGA...\n",
            "('0 - melhor:', 15)\n",
            "trial/Harvey_wbp_15_15_35.txt\n",
            "Executando BRKGA...\n",
            "('0 - melhor:', 14)\n",
            "trial/Harvey_wbp_15_15_35.txt\n",
            "Executando BRKGA...\n",
            "('0 - melhor:', 15)\n",
            "trial/Harvey_wbp_15_15_35.txt\n",
            "Executando BRKGA...\n",
            "('0 - melhor:', 15)\n",
            "trial/Harvey_wbp_15_15_35.txt\n",
            "Executando BRKGA...\n",
            "('0 - melhor:', 15)\n",
            "trial/Harvey_wbp_15_15_35.txt\n",
            "Executando BRKGA...\n",
            "('0 - melhor:', 15)\n",
            "trial/Harvey_wbp_15_15_35.txt\n",
            "Executando BRKGA...\n",
            "('0 - melhor:', 15)\n",
            "trial/Harvey_wbp_15_15_35.txt\n",
            "Executando BRKGA...\n",
            "('0 - melhor:', 15)\n",
            "Solucao 13\n",
            "trial/Harvey_wbop_10_30_31.txt\n",
            "Executando BRKGA...\n",
            "('0 - melhor:', 10)\n",
            "trial/Harvey_wbop_10_30_31.txt\n",
            "Executando BRKGA...\n",
            "('0 - melhor:', 10)\n",
            "trial/Harvey_wbop_10_30_31.txt\n",
            "Executando BRKGA...\n",
            "('0 - melhor:', 10)\n",
            "trial/Harvey_wbop_10_30_31.txt\n",
            "Executando BRKGA...\n",
            "('0 - melhor:', 10)\n",
            "trial/Harvey_wbop_10_30_31.txt\n",
            "Executando BRKGA...\n",
            "('0 - melhor:', 10)\n",
            "trial/Harvey_wbop_10_30_31.txt\n",
            "Executando BRKGA...\n",
            "('0 - melhor:', 10)\n",
            "trial/Harvey_wbop_10_30_31.txt\n",
            "Executando BRKGA...\n",
            "('0 - melhor:', 10)\n",
            "trial/Harvey_wbop_10_30_31.txt\n",
            "Executando BRKGA...\n",
            "('0 - melhor:', 10)\n",
            "trial/Harvey_wbop_10_30_31.txt\n",
            "Executando BRKGA...\n",
            "('0 - melhor:', 10)\n",
            "trial/Harvey_wbop_10_30_31.txt\n",
            "Executando BRKGA...\n",
            "('0 - melhor:', 10)\n",
            "Solucao 10\n",
            "trial/Harvey_wbo_30_30_75.txt\n",
            "Executando BRKGA...\n",
            "('0 - melhor:', 30)\n",
            "trial/Harvey_wbo_30_30_75.txt\n",
            "Executando BRKGA...\n",
            "('0 - melhor:', 30)\n",
            "trial/Harvey_wbo_30_30_75.txt\n",
            "Executando BRKGA...\n",
            "('0 - melhor:', 30)\n",
            "trial/Harvey_wbo_30_30_75.txt\n",
            "Executando BRKGA...\n",
            "('0 - melhor:', 29)\n",
            "trial/Harvey_wbo_30_30_75.txt\n",
            "Executando BRKGA...\n",
            "('0 - melhor:', 30)\n",
            "trial/Harvey_wbo_30_30_75.txt\n",
            "Executando BRKGA...\n",
            "('0 - melhor:', 30)\n",
            "trial/Harvey_wbo_30_30_75.txt\n",
            "Executando BRKGA...\n",
            "('0 - melhor:', 29)\n",
            "trial/Harvey_wbo_30_30_75.txt\n",
            "Executando BRKGA...\n",
            "('0 - melhor:', 30)\n",
            "trial/Harvey_wbo_30_30_75.txt\n",
            "Executando BRKGA...\n",
            "('0 - melhor:', 30)\n"
          ],
          "name": "stdout"
        }
      ]
    },
    {
      "metadata": {
        "id": "S_pvDdfv9rJj",
        "colab_type": "code",
        "colab": {}
      },
      "cell_type": "code",
      "source": [
        "!python app.py"
      ],
      "execution_count": 0,
      "outputs": []
    },
    {
      "metadata": {
        "id": "7XHBq60sJinI",
        "colab_type": "code",
        "outputId": "2a032772-182c-4b8b-c5b7-341d6d1eb742",
        "colab": {
          "base_uri": "https://localhost:8080/",
          "height": 34
        }
      },
      "cell_type": "code",
      "source": [
        "!git push origin master"
      ],
      "execution_count": 0,
      "outputs": [
        {
          "output_type": "stream",
          "text": [
            "fatal: could not read Username for 'https://github.com': No such device or address\n"
          ],
          "name": "stdout"
        }
      ]
    },
    {
      "metadata": {
        "id": "yX-Tg3uZJiN6",
        "colab_type": "code",
        "colab": {}
      },
      "cell_type": "code",
      "source": [
        ""
      ],
      "execution_count": 0,
      "outputs": []
    }
  ]
}